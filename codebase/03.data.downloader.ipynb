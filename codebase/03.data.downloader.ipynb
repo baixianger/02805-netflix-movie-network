{
 "cells": [
  {
   "cell_type": "code",
   "execution_count": 33,
   "metadata": {},
   "outputs": [],
   "source": [
    "import pandas as pd\n",
    "import numpy as np\n",
    "from tqdm import tqdm\n",
    "import requests\n",
    "from imdb import IMDbDataAccessError\n",
    "from bs4 import BeautifulSoup\n",
    "from SN_help import get_movie_from_imdb, get_movie_keywords, get_movie_comment, get_person_from_imdb, build_bipartite\n",
    "import igraph as ig\n",
    "import warnings\n",
    "warnings.filterwarnings(\"ignore\", category=np.VisibleDeprecationWarning) "
   ]
  },
  {
   "cell_type": "code",
   "execution_count": 1,
   "metadata": {},
   "outputs": [
    {
     "name": "stdout",
     "output_type": "stream",
     "text": [
      "\u001b[31m>>>>\u001b[0m Adding 4129 movies and 6021 actors to network.\n",
      "\u001b[31m>>>>\u001b[0m Adding 9239 movie-actor links to network.\n",
      "\u001b[31m>>>>\u001b[0m Projecting bipartite nework to movie nodes and actor nodes.\n",
      "\u001b[31m>>>>\u001b[0m Cleanning useless attributes for Movie Network.\n",
      "\t\t['bipartite', 'birthYear', 'deathYear', 'nconst', 'primaryName']\n",
      "\u001b[31m>>>>\u001b[0m Cleanning useless attributes for Actor Network.\n",
      "\t\t['bipartite', 'description', 'genres', 'averageRating', 'numVotes', 'primaryTitle', 'runtimeMinutes', 'startYear', 'tconst']\n",
      "\u001b[31m>>>>\u001b[0m Getting the GCC of Movie Network and Actor Network.\n",
      "\t\tMovie: (N4129, L9076)-->(N1923, L8346)\n",
      "\t\tActor: (N6021, L8686)-->(N2392, L4676)\n",
      "\u001b[31m>>>>\u001b[0m Summary:\n",
      "IGRAPH U-W- 4129 9076 -- \n",
      "+ attr: averageRating (v), country (v), description (v), genres (v), numVotes (v), primaryTitle (v), runtimeMinutes (v), startYear (v), tconst (v), weight (e)\n",
      "IGRAPH U-W- 6021 8686 -- \n",
      "+ attr: birthYear (v), country (v), deathYear (v), nconst (v), primaryName (v), weight (e)\n",
      "\u001b[31m>>>>\u001b[0m Done !\n"
     ]
    }
   ],
   "source": [
    "movie_path = './netflix/movie.parquet'\n",
    "actor_path = './netflix/actor.parquet'\n",
    "link_path = './netflix/movie_actor.parquet'\n",
    "save_path = './netflix/network'\n",
    "tag = 'netflix'\n",
    "_, _, mg, ag = build_bipartite(movie_path, actor_path, link_path)"
   ]
  },
  {
   "cell_type": "code",
   "execution_count": 35,
   "metadata": {},
   "outputs": [],
   "source": [
    "tconst_list = mg.vs['tconst']\n",
    "\n",
    "m_attr = pd.DataFrame(columns=['cast', 'budget', 'boxOffice', 'plotOutline', 'plot', 'synopsis'])\n",
    "m_keyword = pd.DataFrame(columns=['keywords'])\n",
    "m_review = pd.DataFrame(columns=['reviews'])"
   ]
  },
  {
   "cell_type": "markdown",
   "metadata": {},
   "source": [
    "### 下载电影数据"
   ]
  },
  {
   "cell_type": "code",
   "execution_count": 9,
   "metadata": {},
   "outputs": [
    {
     "name": "stderr",
     "output_type": "stream",
     "text": [
      "  0%|          | 0/965 [00:00<?, ?it/s]/Users/baixianger/opt/miniconda3/envs/sn/lib/python3.8/site-packages/numpy/core/fromnumeric.py:3162: VisibleDeprecationWarning: Creating an ndarray from ragged nested sequences (which is a list-or-tuple of lists-or-tuples-or ndarrays with different lengths or shapes) is deprecated. If you meant to do this, you must specify 'dtype=object' when creating the ndarray.\n",
      "  return asarray(a).ndim\n",
      "100%|██████████| 965/965 [43:10<00:00,  2.68s/it]\n"
     ]
    }
   ],
   "source": [
    "i = 0\n",
    "for tconst in tqdm(tconst_list[i:]):\n",
    "    try:\n",
    "        m_attr.loc[tconst] = pd.Series(get_movie_from_imdb(tconst))\n",
    "    except IMDbDataAccessError:\n",
    "        m_attr.loc[tconst] = pd.Series(get_movie_from_imdb(tconst))\n",
    "        continue"
   ]
  },
  {
   "cell_type": "code",
   "execution_count": 10,
   "metadata": {},
   "outputs": [],
   "source": [
    "m_attr.to_csv('./netflix/download/movie.attr.csv', index=True)"
   ]
  },
  {
   "cell_type": "markdown",
   "metadata": {},
   "source": [
    "### 下载电影关键字"
   ]
  },
  {
   "cell_type": "code",
   "execution_count": 31,
   "metadata": {},
   "outputs": [
    {
     "name": "stderr",
     "output_type": "stream",
     "text": [
      "  0%|          | 0/1923 [00:00<?, ?it/s]/Users/baixianger/opt/miniconda3/envs/sn/lib/python3.8/site-packages/pandas/core/internals/blocks.py:940: VisibleDeprecationWarning: Creating an ndarray from ragged nested sequences (which is a list-or-tuple of lists-or-tuples-or ndarrays with different lengths or shapes) is deprecated. If you meant to do this, you must specify 'dtype=object' when creating the ndarray.\n",
      "  arr_value = np.asarray(value)\n",
      "100%|██████████| 1923/1923 [34:14<00:00,  1.07s/it]\n"
     ]
    }
   ],
   "source": [
    "i = 0 # Discontinuous transmission LOL\n",
    "for tconst in tqdm(tconst_list[i:]):\n",
    "    try:\n",
    "        m_keyword.loc[tconst, 'keywords'] = get_movie_keywords(tconst)\n",
    "    except IMDbDataAccessError:\n",
    "        m_keyword.loc[tconst, 'keywords'] = get_movie_keywords(tconst)\n",
    "        continue"
   ]
  },
  {
   "cell_type": "code",
   "execution_count": 32,
   "metadata": {},
   "outputs": [],
   "source": [
    "m_keyword.to_csv('./netflix/download/movie.keyword.csv', index=True)"
   ]
  },
  {
   "cell_type": "markdown",
   "metadata": {},
   "source": [
    "### 下载电影评论"
   ]
  },
  {
   "cell_type": "code",
   "execution_count": 36,
   "metadata": {},
   "outputs": [
    {
     "name": "stderr",
     "output_type": "stream",
     "text": [
      "100%|██████████| 1923/1923 [2:38:46<00:00,  4.95s/it]      \n"
     ]
    },
    {
     "data": {
      "text/plain": [
       "['tt3137630']"
      ]
     },
     "execution_count": 36,
     "metadata": {},
     "output_type": "execute_result"
    }
   ],
   "source": [
    "i = 0\n",
    "error_tconst = []\n",
    "for tconst in tqdm(tconst_list[i:]):\n",
    "    try:\n",
    "        m_review.loc[tconst, 'reviews'] = get_movie_comment(tconst)\n",
    "    except:\n",
    "        error_tconst.append(tconst)\n",
    "        m_review.loc[tconst, 'reviews'] = get_movie_comment(tconst)\n",
    "        continue\n",
    "error_tconst"
   ]
  },
  {
   "cell_type": "code",
   "execution_count": 39,
   "metadata": {},
   "outputs": [
    {
     "data": {
      "text/plain": [
       "reviews    [I'm a big fan of Ricky Gervais' work and cons...\n",
       "Name: tt3137630, dtype: object"
      ]
     },
     "metadata": {},
     "output_type": "display_data"
    }
   ],
   "source": [
    "m_review.loc[tconst, 'reviews'] = get_movie_comment('tt3137630')\n",
    "display(m_review.loc['tt3137630'])\n",
    "\n",
    "m_review.to_csv('./netflix/download/movie.review.csv', index=True)"
   ]
  },
  {
   "cell_type": "markdown",
   "metadata": {},
   "source": [
    "### 下载演员"
   ]
  },
  {
   "cell_type": "code",
   "execution_count": 40,
   "metadata": {},
   "outputs": [],
   "source": [
    "a_attr = pd.DataFrame(columns=['name', 'height', 'birthday', 'country', 'bigoraphy', 'trivia'])\n",
    "nconst_list = ag.vs['nconst']"
   ]
  },
  {
   "cell_type": "code",
   "execution_count": 49,
   "metadata": {},
   "outputs": [
    {
     "name": "stderr",
     "output_type": "stream",
     "text": [
      " 31%|███       | 741/2392 [55:53<1:53:08,  4.11s/it] 2022-12-04 21:21:00,977 CRITICAL [imdbpy] /Users/baixianger/opt/miniconda3/envs/sn/lib/python3.8/site-packages/imdb/_exceptions.py:32: IMDbDataAccessError exception raised; args: ({'errcode': None, 'errmsg': 'None', 'url': 'https://www.imdb.com/name/nm0117412/bio', 'proxy': '', 'exception type': 'IOError', 'original exception': timeout('The read operation timed out')},); kwds: {}\n",
      "Traceback (most recent call last):\n",
      "  File \"/Users/baixianger/opt/miniconda3/envs/sn/lib/python3.8/site-packages/imdb/parser/http/__init__.py\", line 221, in retrieve_unicode\n",
      "    response = uopener.open(url)\n",
      "  File \"/Users/baixianger/opt/miniconda3/envs/sn/lib/python3.8/urllib/request.py\", line 525, in open\n",
      "    response = self._open(req, data)\n",
      "  File \"/Users/baixianger/opt/miniconda3/envs/sn/lib/python3.8/urllib/request.py\", line 542, in _open\n",
      "    result = self._call_chain(self.handle_open, protocol, protocol +\n",
      "  File \"/Users/baixianger/opt/miniconda3/envs/sn/lib/python3.8/urllib/request.py\", line 502, in _call_chain\n",
      "    result = func(*args)\n",
      "  File \"/Users/baixianger/opt/miniconda3/envs/sn/lib/python3.8/urllib/request.py\", line 1397, in https_open\n",
      "    return self.do_open(http.client.HTTPSConnection, req,\n",
      "  File \"/Users/baixianger/opt/miniconda3/envs/sn/lib/python3.8/urllib/request.py\", line 1358, in do_open\n",
      "    r = h.getresponse()\n",
      "  File \"/Users/baixianger/opt/miniconda3/envs/sn/lib/python3.8/http/client.py\", line 1348, in getresponse\n",
      "    response.begin()\n",
      "  File \"/Users/baixianger/opt/miniconda3/envs/sn/lib/python3.8/http/client.py\", line 316, in begin\n",
      "    version, status, reason = self._read_status()\n",
      "  File \"/Users/baixianger/opt/miniconda3/envs/sn/lib/python3.8/http/client.py\", line 277, in _read_status\n",
      "    line = str(self.fp.readline(_MAXLINE + 1), \"iso-8859-1\")\n",
      "  File \"/Users/baixianger/opt/miniconda3/envs/sn/lib/python3.8/socket.py\", line 669, in readinto\n",
      "    return self._sock.recv_into(b)\n",
      "  File \"/Users/baixianger/opt/miniconda3/envs/sn/lib/python3.8/ssl.py\", line 1241, in recv_into\n",
      "    return self.read(nbytes, buffer)\n",
      "  File \"/Users/baixianger/opt/miniconda3/envs/sn/lib/python3.8/ssl.py\", line 1099, in read\n",
      "    return self._sslobj.read(len, buffer)\n",
      "socket.timeout: The read operation timed out\n",
      "2022-12-04 21:21:00,984 CRITICAL [imdbpy] /Users/baixianger/opt/miniconda3/envs/sn/lib/python3.8/site-packages/imdb/__init__.py:850: caught an exception retrieving or parsing \"biography\" info set for mopID \"0117412\" (accessSystem: http)\n",
      "Traceback (most recent call last):\n",
      "  File \"/Users/baixianger/opt/miniconda3/envs/sn/lib/python3.8/site-packages/imdb/parser/http/__init__.py\", line 221, in retrieve_unicode\n",
      "    response = uopener.open(url)\n",
      "  File \"/Users/baixianger/opt/miniconda3/envs/sn/lib/python3.8/urllib/request.py\", line 525, in open\n",
      "    response = self._open(req, data)\n",
      "  File \"/Users/baixianger/opt/miniconda3/envs/sn/lib/python3.8/urllib/request.py\", line 542, in _open\n",
      "    result = self._call_chain(self.handle_open, protocol, protocol +\n",
      "  File \"/Users/baixianger/opt/miniconda3/envs/sn/lib/python3.8/urllib/request.py\", line 502, in _call_chain\n",
      "    result = func(*args)\n",
      "  File \"/Users/baixianger/opt/miniconda3/envs/sn/lib/python3.8/urllib/request.py\", line 1397, in https_open\n",
      "    return self.do_open(http.client.HTTPSConnection, req,\n",
      "  File \"/Users/baixianger/opt/miniconda3/envs/sn/lib/python3.8/urllib/request.py\", line 1358, in do_open\n",
      "    r = h.getresponse()\n",
      "  File \"/Users/baixianger/opt/miniconda3/envs/sn/lib/python3.8/http/client.py\", line 1348, in getresponse\n",
      "    response.begin()\n",
      "  File \"/Users/baixianger/opt/miniconda3/envs/sn/lib/python3.8/http/client.py\", line 316, in begin\n",
      "    version, status, reason = self._read_status()\n",
      "  File \"/Users/baixianger/opt/miniconda3/envs/sn/lib/python3.8/http/client.py\", line 277, in _read_status\n",
      "    line = str(self.fp.readline(_MAXLINE + 1), \"iso-8859-1\")\n",
      "  File \"/Users/baixianger/opt/miniconda3/envs/sn/lib/python3.8/socket.py\", line 669, in readinto\n",
      "    return self._sock.recv_into(b)\n",
      "  File \"/Users/baixianger/opt/miniconda3/envs/sn/lib/python3.8/ssl.py\", line 1241, in recv_into\n",
      "    return self.read(nbytes, buffer)\n",
      "  File \"/Users/baixianger/opt/miniconda3/envs/sn/lib/python3.8/ssl.py\", line 1099, in read\n",
      "    return self._sslobj.read(len, buffer)\n",
      "socket.timeout: The read operation timed out\n",
      "\n",
      "During handling of the above exception, another exception occurred:\n",
      "\n",
      "Traceback (most recent call last):\n",
      "  File \"/Users/baixianger/opt/miniconda3/envs/sn/lib/python3.8/site-packages/imdb/__init__.py\", line 848, in update\n",
      "    ret = method(mopID)\n",
      "  File \"/Users/baixianger/opt/miniconda3/envs/sn/lib/python3.8/site-packages/imdb/parser/http/__init__.py\", line 694, in get_person_biography\n",
      "    cont = self._retrieve(self.urls['person_main'] % personID + 'bio')\n",
      "  File \"/Users/baixianger/opt/miniconda3/envs/sn/lib/python3.8/site-packages/imdb/parser/http/__init__.py\", line 380, in _retrieve\n",
      "    ret = self.urlOpener.retrieve_unicode(url, size=size)\n",
      "  File \"/Users/baixianger/opt/miniconda3/envs/sn/lib/python3.8/site-packages/imdb/parser/http/__init__.py\", line 249, in retrieve_unicode\n",
      "    raise IMDbDataAccessError(\n",
      "imdb._exceptions.IMDbDataAccessError: {'errcode': None, 'errmsg': 'None', 'url': 'https://www.imdb.com/name/nm0117412/bio', 'proxy': '', 'exception type': 'IOError', 'original exception': timeout('The read operation timed out')}\n",
      " 31%|███       | 747/2392 [59:13<5:31:45, 12.10s/it] 2022-12-04 21:36:47,630 CRITICAL [imdbpy] /Users/baixianger/opt/miniconda3/envs/sn/lib/python3.8/site-packages/imdb/_exceptions.py:32: IMDbDataAccessError exception raised; args: ({'errcode': None, 'errmsg': 'None', 'url': 'https://www.imdb.com/name/nm0672667/', 'proxy': '', 'exception type': 'IOError', 'original exception': timeout('The read operation timed out')},); kwds: {}\n",
      "Traceback (most recent call last):\n",
      "  File \"/Users/baixianger/opt/miniconda3/envs/sn/lib/python3.8/site-packages/imdb/parser/http/__init__.py\", line 221, in retrieve_unicode\n",
      "    response = uopener.open(url)\n",
      "  File \"/Users/baixianger/opt/miniconda3/envs/sn/lib/python3.8/urllib/request.py\", line 525, in open\n",
      "    response = self._open(req, data)\n",
      "  File \"/Users/baixianger/opt/miniconda3/envs/sn/lib/python3.8/urllib/request.py\", line 542, in _open\n",
      "    result = self._call_chain(self.handle_open, protocol, protocol +\n",
      "  File \"/Users/baixianger/opt/miniconda3/envs/sn/lib/python3.8/urllib/request.py\", line 502, in _call_chain\n",
      "    result = func(*args)\n",
      "  File \"/Users/baixianger/opt/miniconda3/envs/sn/lib/python3.8/urllib/request.py\", line 1397, in https_open\n",
      "    return self.do_open(http.client.HTTPSConnection, req,\n",
      "  File \"/Users/baixianger/opt/miniconda3/envs/sn/lib/python3.8/urllib/request.py\", line 1358, in do_open\n",
      "    r = h.getresponse()\n",
      "  File \"/Users/baixianger/opt/miniconda3/envs/sn/lib/python3.8/http/client.py\", line 1348, in getresponse\n",
      "    response.begin()\n",
      "  File \"/Users/baixianger/opt/miniconda3/envs/sn/lib/python3.8/http/client.py\", line 316, in begin\n",
      "    version, status, reason = self._read_status()\n",
      "  File \"/Users/baixianger/opt/miniconda3/envs/sn/lib/python3.8/http/client.py\", line 277, in _read_status\n",
      "    line = str(self.fp.readline(_MAXLINE + 1), \"iso-8859-1\")\n",
      "  File \"/Users/baixianger/opt/miniconda3/envs/sn/lib/python3.8/socket.py\", line 669, in readinto\n",
      "    return self._sock.recv_into(b)\n",
      "  File \"/Users/baixianger/opt/miniconda3/envs/sn/lib/python3.8/ssl.py\", line 1241, in recv_into\n",
      "    return self.read(nbytes, buffer)\n",
      "  File \"/Users/baixianger/opt/miniconda3/envs/sn/lib/python3.8/ssl.py\", line 1099, in read\n",
      "    return self._sslobj.read(len, buffer)\n",
      "socket.timeout: The read operation timed out\n",
      "2022-12-04 21:36:47,632 CRITICAL [imdbpy] /Users/baixianger/opt/miniconda3/envs/sn/lib/python3.8/site-packages/imdb/__init__.py:850: caught an exception retrieving or parsing \"main\" info set for mopID \"0672667\" (accessSystem: http)\n",
      "Traceback (most recent call last):\n",
      "  File \"/Users/baixianger/opt/miniconda3/envs/sn/lib/python3.8/site-packages/imdb/parser/http/__init__.py\", line 221, in retrieve_unicode\n",
      "    response = uopener.open(url)\n",
      "  File \"/Users/baixianger/opt/miniconda3/envs/sn/lib/python3.8/urllib/request.py\", line 525, in open\n",
      "    response = self._open(req, data)\n",
      "  File \"/Users/baixianger/opt/miniconda3/envs/sn/lib/python3.8/urllib/request.py\", line 542, in _open\n",
      "    result = self._call_chain(self.handle_open, protocol, protocol +\n",
      "  File \"/Users/baixianger/opt/miniconda3/envs/sn/lib/python3.8/urllib/request.py\", line 502, in _call_chain\n",
      "    result = func(*args)\n",
      "  File \"/Users/baixianger/opt/miniconda3/envs/sn/lib/python3.8/urllib/request.py\", line 1397, in https_open\n",
      "    return self.do_open(http.client.HTTPSConnection, req,\n",
      "  File \"/Users/baixianger/opt/miniconda3/envs/sn/lib/python3.8/urllib/request.py\", line 1358, in do_open\n",
      "    r = h.getresponse()\n",
      "  File \"/Users/baixianger/opt/miniconda3/envs/sn/lib/python3.8/http/client.py\", line 1348, in getresponse\n",
      "    response.begin()\n",
      "  File \"/Users/baixianger/opt/miniconda3/envs/sn/lib/python3.8/http/client.py\", line 316, in begin\n",
      "    version, status, reason = self._read_status()\n",
      "  File \"/Users/baixianger/opt/miniconda3/envs/sn/lib/python3.8/http/client.py\", line 277, in _read_status\n",
      "    line = str(self.fp.readline(_MAXLINE + 1), \"iso-8859-1\")\n",
      "  File \"/Users/baixianger/opt/miniconda3/envs/sn/lib/python3.8/socket.py\", line 669, in readinto\n",
      "    return self._sock.recv_into(b)\n",
      "  File \"/Users/baixianger/opt/miniconda3/envs/sn/lib/python3.8/ssl.py\", line 1241, in recv_into\n",
      "    return self.read(nbytes, buffer)\n",
      "  File \"/Users/baixianger/opt/miniconda3/envs/sn/lib/python3.8/ssl.py\", line 1099, in read\n",
      "    return self._sslobj.read(len, buffer)\n",
      "socket.timeout: The read operation timed out\n",
      "\n",
      "During handling of the above exception, another exception occurred:\n",
      "\n",
      "Traceback (most recent call last):\n",
      "  File \"/Users/baixianger/opt/miniconda3/envs/sn/lib/python3.8/site-packages/imdb/__init__.py\", line 848, in update\n",
      "    ret = method(mopID)\n",
      "  File \"/Users/baixianger/opt/miniconda3/envs/sn/lib/python3.8/site-packages/imdb/parser/http/__init__.py\", line 685, in get_person_main\n",
      "    cont = self._retrieve(self.urls['person_main'] % personID)\n",
      "  File \"/Users/baixianger/opt/miniconda3/envs/sn/lib/python3.8/site-packages/imdb/parser/http/__init__.py\", line 380, in _retrieve\n",
      "    ret = self.urlOpener.retrieve_unicode(url, size=size)\n",
      "  File \"/Users/baixianger/opt/miniconda3/envs/sn/lib/python3.8/site-packages/imdb/parser/http/__init__.py\", line 249, in retrieve_unicode\n",
      "    raise IMDbDataAccessError(\n",
      "imdb._exceptions.IMDbDataAccessError: {'errcode': None, 'errmsg': 'None', 'url': 'https://www.imdb.com/name/nm0672667/', 'proxy': '', 'exception type': 'IOError', 'original exception': timeout('The read operation timed out')}\n",
      " 33%|███▎      | 797/2392 [1:17:14<1:25:43,  3.22s/it]   2022-12-04 21:44:45,427 CRITICAL [imdbpy] /Users/baixianger/opt/miniconda3/envs/sn/lib/python3.8/site-packages/imdb/_exceptions.py:32: IMDbDataAccessError exception raised; args: ({'errcode': 54, 'errmsg': 'Connection reset by peer', 'url': 'https://www.imdb.com/name/nm0000513/', 'proxy': '', 'exception type': 'IOError', 'original exception': ConnectionResetError(54, 'Connection reset by peer')},); kwds: {}\n",
      "Traceback (most recent call last):\n",
      "  File \"/Users/baixianger/opt/miniconda3/envs/sn/lib/python3.8/site-packages/imdb/parser/http/__init__.py\", line 222, in retrieve_unicode\n",
      "    content = response.read()\n",
      "  File \"/Users/baixianger/opt/miniconda3/envs/sn/lib/python3.8/http/client.py\", line 472, in read\n",
      "    s = self._safe_read(self.length)\n",
      "  File \"/Users/baixianger/opt/miniconda3/envs/sn/lib/python3.8/http/client.py\", line 613, in _safe_read\n",
      "    data = self.fp.read(amt)\n",
      "  File \"/Users/baixianger/opt/miniconda3/envs/sn/lib/python3.8/socket.py\", line 669, in readinto\n",
      "    return self._sock.recv_into(b)\n",
      "  File \"/Users/baixianger/opt/miniconda3/envs/sn/lib/python3.8/ssl.py\", line 1241, in recv_into\n",
      "    return self.read(nbytes, buffer)\n",
      "  File \"/Users/baixianger/opt/miniconda3/envs/sn/lib/python3.8/ssl.py\", line 1099, in read\n",
      "    return self._sslobj.read(len, buffer)\n",
      "ConnectionResetError: [Errno 54] Connection reset by peer\n",
      "2022-12-04 21:44:45,431 CRITICAL [imdbpy] /Users/baixianger/opt/miniconda3/envs/sn/lib/python3.8/site-packages/imdb/__init__.py:850: caught an exception retrieving or parsing \"main\" info set for mopID \"0000513\" (accessSystem: http)\n",
      "Traceback (most recent call last):\n",
      "  File \"/Users/baixianger/opt/miniconda3/envs/sn/lib/python3.8/site-packages/imdb/parser/http/__init__.py\", line 222, in retrieve_unicode\n",
      "    content = response.read()\n",
      "  File \"/Users/baixianger/opt/miniconda3/envs/sn/lib/python3.8/http/client.py\", line 472, in read\n",
      "    s = self._safe_read(self.length)\n",
      "  File \"/Users/baixianger/opt/miniconda3/envs/sn/lib/python3.8/http/client.py\", line 613, in _safe_read\n",
      "    data = self.fp.read(amt)\n",
      "  File \"/Users/baixianger/opt/miniconda3/envs/sn/lib/python3.8/socket.py\", line 669, in readinto\n",
      "    return self._sock.recv_into(b)\n",
      "  File \"/Users/baixianger/opt/miniconda3/envs/sn/lib/python3.8/ssl.py\", line 1241, in recv_into\n",
      "    return self.read(nbytes, buffer)\n",
      "  File \"/Users/baixianger/opt/miniconda3/envs/sn/lib/python3.8/ssl.py\", line 1099, in read\n",
      "    return self._sslobj.read(len, buffer)\n",
      "ConnectionResetError: [Errno 54] Connection reset by peer\n",
      "\n",
      "During handling of the above exception, another exception occurred:\n",
      "\n",
      "Traceback (most recent call last):\n",
      "  File \"/Users/baixianger/opt/miniconda3/envs/sn/lib/python3.8/site-packages/imdb/__init__.py\", line 848, in update\n",
      "    ret = method(mopID)\n",
      "  File \"/Users/baixianger/opt/miniconda3/envs/sn/lib/python3.8/site-packages/imdb/parser/http/__init__.py\", line 685, in get_person_main\n",
      "    cont = self._retrieve(self.urls['person_main'] % personID)\n",
      "  File \"/Users/baixianger/opt/miniconda3/envs/sn/lib/python3.8/site-packages/imdb/parser/http/__init__.py\", line 380, in _retrieve\n",
      "    ret = self.urlOpener.retrieve_unicode(url, size=size)\n",
      "  File \"/Users/baixianger/opt/miniconda3/envs/sn/lib/python3.8/site-packages/imdb/parser/http/__init__.py\", line 249, in retrieve_unicode\n",
      "    raise IMDbDataAccessError(\n",
      "imdb._exceptions.IMDbDataAccessError: {'errcode': 54, 'errmsg': 'Connection reset by peer', 'url': 'https://www.imdb.com/name/nm0000513/', 'proxy': '', 'exception type': 'IOError', 'original exception': ConnectionResetError(54, 'Connection reset by peer')}\n",
      "100%|██████████| 2392/2392 [2:45:58<00:00,  4.16s/it]   \n"
     ]
    },
    {
     "data": {
      "text/plain": [
       "['nm0117412', 'nm0672667', 'nm0000513']"
      ]
     },
     "execution_count": 49,
     "metadata": {},
     "output_type": "execute_result"
    }
   ],
   "source": [
    "i = 0\n",
    "error_nconst = []\n",
    "for nconst in tqdm(nconst_list[i:]):\n",
    "    try:\n",
    "        a_attr.loc[nconst] = get_person_from_imdb(nconst)\n",
    "    except IMDbDataAccessError:\n",
    "        error_nconst.append(nconst)\n",
    "        a_attr.loc[nconst] = get_person_from_imdb(nconst)\n",
    "        continue\n",
    "error_nconst"
   ]
  },
  {
   "cell_type": "code",
   "execution_count": 54,
   "metadata": {},
   "outputs": [],
   "source": [
    "a_attr.to_csv('./netflix/download/actor.attr.csv', index=True)"
   ]
  }
 ],
 "metadata": {
  "kernelspec": {
   "display_name": "Python 3.8.13 ('sn')",
   "language": "python",
   "name": "python3"
  },
  "language_info": {
   "codemirror_mode": {
    "name": "ipython",
    "version": 3
   },
   "file_extension": ".py",
   "mimetype": "text/x-python",
   "name": "python",
   "nbconvert_exporter": "python",
   "pygments_lexer": "ipython3",
   "version": "3.8.15"
  },
  "orig_nbformat": 4,
  "vscode": {
   "interpreter": {
    "hash": "3ea34d22b3586a7959225e2a8d9e399aac787405982be9e6c2b10e2be8fb7f4b"
   }
  }
 },
 "nbformat": 4,
 "nbformat_minor": 2
}
