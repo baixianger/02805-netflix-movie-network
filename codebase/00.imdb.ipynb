{
 "cells": [
  {
   "cell_type": "markdown",
   "id": "64e0f7f2-bf3b-4659-9741-00e0dc8f3b80",
   "metadata": {
    "tags": []
   },
   "source": [
    "# Spark Configuration"
   ]
  },
  {
   "cell_type": "markdown",
   "id": "16291529-3681-4db2-af1b-99b3785eadb4",
   "metadata": {},
   "source": [
    "Spark Setting\n",
    "\n",
    "1. Install Homebrew\n",
    "2. Install OpenJDK@11 via homebrew \n",
    "```\n",
    "# Install OpenJDK 11\n",
    "brew install openjdk@11\n",
    "```\n",
    "3. Install Scala(optional)\n",
    "```\n",
    "# Install Scala (optional)\n",
    "brew install scala\n",
    "```\n",
    "4. Install Python\n",
    "5. Install PySpark on Mac\n",
    "```\n",
    "brew install apache-spark\n",
    "```\n",
    "\n",
    "* access http://localhost:4040/jobs/ from your favorite web browser to access Spark Web UI to monitor your jobs.\n"
   ]
  },
  {
   "cell_type": "markdown",
   "id": "1a664aaa-1a26-4e36-8f5a-cdd5dbbf10a1",
   "metadata": {},
   "source": [
    "1. Install miniconda\n",
    "2. Install Java\n",
    "3. Install PySpark\n",
    "4. Install FindSpark\n",
    "5. Validate PySpark Installation\n",
    "* Jave_home\n",
    "```\n",
    "bash: /usr/libexec/java_home\n",
    "```\n",
    "/Library/Java/JavaVirtualMachines/microsoft-11.jdk/Contents/Home"
   ]
  },
  {
   "cell_type": "code",
   "execution_count": 1,
   "id": "45f15f74-19bd-4a35-a0d5-591d6596f7c4",
   "metadata": {},
   "outputs": [
    {
     "data": {
      "text/plain": [
       "'/Users/baixianger/opt/miniconda3/envs/sn/lib/python3.8/site-packages/pyspark'"
      ]
     },
     "execution_count": 1,
     "metadata": {},
     "output_type": "execute_result"
    }
   ],
   "source": [
    "import findspark\n",
    "findspark.init()\n",
    "findspark.find()"
   ]
  },
  {
   "cell_type": "markdown",
   "id": "b60270ae-1455-4fa8-aca8-50d6dffd43b7",
   "metadata": {
    "jp-MarkdownHeadingCollapsed": true,
    "tags": []
   },
   "source": [
    "# Why do I use spark to handle data?\n",
    "\n",
    "1. I want some newest movie data to analysis, the `MovieLens` dataset hasn't updated for three years maybe (Released 12/2019). \n",
    "2. I tried use an API python package, called `Cinemagoer` to get data from IMDB website. The IMDB api is not stable and has some request limitation, but it can get very rich movie informations, including `box office`, `budget`, `keywords`, `plot`, `synopsis` for movies, and `birthdate`, `birthplace`, `biography`, `notes`, `trivia`. \n",
    "3. I also tried to write a webspider script powered by `beautifulsoup4` to obtain reviews for each movie.\n",
    "4. The above processings are really time consuming for more than 6,000 movies 7,000 actors as well as 3,000 directors. Then I downloaded the whole official dataset from `https://datasets.imdbws.com/`, which is a big data with 9 million records, so i begin to use `spark` to get some basic information.\n",
    "5. After so many trials and errors, my pipeline for processing data is a hybird of `API`, `web crawler` and `Big Data` now.\n",
    "\n",
    "**Pros:**\n",
    "1. I can build network of IMDB and Netflix, where Netflix can be seen as a subset of IMDB, or can be seen as a sampling of IMDB. I can observe the difference between those two network, and try to explain it.\n",
    "2. Fresh and first hand dataset.\n",
    "\n",
    "**Cons:**\n",
    "1. Time consuming for personal computer. (Use DTU HPC 🤭)\n",
    "2. Hard to congure the graphframes package in pyspark"
   ]
  },
  {
   "cell_type": "markdown",
   "id": "d2d6e02e-edbc-477d-9425-dd6606318788",
   "metadata": {
    "tags": []
   },
   "source": [
    "# How to use graphframes in pyspark\n",
    "\n",
    "**How to [+](https://graphframes.github.io/graphframes/docs/_site/index.html)**\n",
    "\n",
    "*Graphframes only support pyspark under 3.2*\n",
    "\n",
    "Include this package in your Spark Applications using:\n",
    "\n",
    "```[shell]\n",
    "# find the right version on the website and run the command in your shell\n",
    "pyspark --packages graphframes:graphframes:0.8.2-spark3.2-s_2.12\n",
    "```\n",
    "\n",
    "**How to run on jupyter lab:**\n",
    "\n",
    "1. Set environment variables, ```nano ~/.zshrc```\n",
    "```\n",
    "export PYSPARK_DRIVER_PYTHON=”jupyter”\n",
    "export PYSPARK_DRIVER_PYTHON_OPTS=”notebook”\n",
    "export SPARK_OPTS=” — packages graphframes:graphframes:0.8.2-spark3.2-s_2.12\"\n",
    "```\n",
    "2. Get the jar file manually from https://spark-packages.org/package/graphframes/graphframes, check the version of your spark and scale\n",
    "\n",
    "3. Load the jar file in the Jupyter notebook\n",
    "`sc.addPyFile(‘path_to_the_jar_file’)`\n",
    "\n",
    "    Import error:\n",
    "\n",
    "    *https://github.com/graphframes/graphframes/issues/172*\n",
    "\n",
    "    *https://stackoverflow.com/questions/36397136/importing-pyspark-packages*  put env variable into `load_spark-env.sh`\n",
    "\n",
    "    Add-on:\n",
    "\n",
    "    *https://github.com/moj-analytical-services/splink_graph* splink_graph\n",
    "4. Sources:\n",
    "\n",
    "    Graph Modeling in PySpark using GraphFrames: Part 1 *https://blog.devgenius.io/graph-modeling-in-pyspark-using-graphframes-part-1-e7cb42099182*"
   ]
  },
  {
   "cell_type": "code",
   "execution_count": 2,
   "id": "854806ab-90ac-41b3-ad18-7342bfd606d4",
   "metadata": {},
   "outputs": [
    {
     "name": "stderr",
     "output_type": "stream",
     "text": [
      "WARNING: An illegal reflective access operation has occurred\n",
      "WARNING: Illegal reflective access by org.apache.spark.unsafe.Platform (file:/Users/baixianger/opt/miniconda3/envs/sn/lib/python3.8/site-packages/pyspark/jars/spark-unsafe_2.12-3.2.0.jar) to constructor java.nio.DirectByteBuffer(long,int)\n",
      "WARNING: Please consider reporting this to the maintainers of org.apache.spark.unsafe.Platform\n",
      "WARNING: Use --illegal-access=warn to enable warnings of further illegal reflective access operations\n",
      "WARNING: All illegal access operations will be denied in a future release\n",
      "Using Spark's default log4j profile: org/apache/spark/log4j-defaults.properties\n",
      "Setting default log level to \"WARN\".\n",
      "To adjust logging level use sc.setLogLevel(newLevel). For SparkR, use setLogLevel(newLevel).\n",
      "22/12/03 04:12:22 WARN NativeCodeLoader: Unable to load native-hadoop library for your platform... using builtin-java classes where applicable\n"
     ]
    }
   ],
   "source": [
    "from pyspark.sql import SparkSession\n",
    "spark = SparkSession.builder.getOrCreate()\n",
    "sc=spark.sparkContext\n",
    "sc.addPyFile('/Users/baixianger/opt/miniconda3/envs/sn/lib/python3.8/site-packages/pyspark/jars/graphframes-0.8.2-spark3.2-s_2.12.jar') "
   ]
  },
  {
   "cell_type": "markdown",
   "id": "04b37c75-5efc-46cb-966c-3ce1c1f6e24a",
   "metadata": {
    "tags": []
   },
   "source": [
    "# IMDB Network"
   ]
  },
  {
   "cell_type": "markdown",
   "id": "f351109d-793c-4069-89dd-ffb3c02dd61c",
   "metadata": {
    "tags": []
   },
   "source": [
    "## Get Nodes and Links from IMDB"
   ]
  },
  {
   "cell_type": "code",
   "execution_count": 6,
   "id": "1f2737b4-81b5-40cb-b567-80c129e57e5c",
   "metadata": {},
   "outputs": [
    {
     "name": "stderr",
     "output_type": "stream",
     "text": [
      "                                                                                \r"
     ]
    },
    {
     "name": "stdout",
     "output_type": "stream",
     "text": [
      "+---------+-----------------+---------+--------------+-------------+-------------+--------+\n",
      "|   tconst|     primaryTitle|startYear|runtimeMinutes|       genres|averageRating|numVotes|\n",
      "+---------+-----------------+---------+--------------+-------------+-------------+--------+\n",
      "|tt1810520|       On the Sly|     2011|            77|     [Family]|          6.6|     130|\n",
      "|tt1043494|  Life Inside Out|     2006|            73|[Documentary]|          6.6|      10|\n",
      "|tt4830046|Shadow of Treason|     1963|            89|      [Drama]|          5.4|      34|\n",
      "+---------+-----------------+---------+--------------+-------------+-------------+--------+\n",
      "only showing top 3 rows\n",
      "\n"
     ]
    },
    {
     "name": "stderr",
     "output_type": "stream",
     "text": [
      "                                                                                \r"
     ]
    }
   ],
   "source": [
    "from pyspark.sql.functions import split, col\n",
    "from pyspark.sql.types import StructType, IntegerType, StringType, FloatType\n",
    "\n",
    "# All the titles in IMDB, which have 9,395,215 titles\n",
    "title_basic = spark.read.csv(\"./title.basics.tsv\", sep='\\t', header=True)\n",
    "# Selecting only movie titles, which have 627,833 titles\n",
    "movie_basic = title_basic.filter(title_basic.titleType == \"movie\")\\\n",
    "                         .select('tconst', 'primaryTitle', 'startYear', 'runtimeMinutes', 'genres')\n",
    "                         \n",
    "# Add rating\n",
    "title_rating = spark.read.csv(\"./title.ratings.tsv\", sep='\\t', header=True)\n",
    "movie_basic = movie_basic.join(title_rating, movie_basic.tconst == title_rating.tconst, 'left')\\\n",
    "                         .drop(title_rating.tconst)\n",
    "\n",
    "# if needed, we can split the comma separeted element into sequence.\n",
    "movie_basic = movie_basic.withColumn(\"genres\", split(col(\"genres\"),\",\"))\\\n",
    "                         .withColumn(\"startYear\", movie_basic.startYear.cast(IntegerType()))\\\n",
    "                         .withColumn(\"runtimeMinutes\", movie_basic.runtimeMinutes.cast(IntegerType()))\\\n",
    "                         .withColumn(\"averageRating\", movie_basic.averageRating.cast(FloatType()))\\\n",
    "                         .withColumn(\"numVotes\", movie_basic.numVotes.cast(IntegerType()))\n",
    "\n",
    "movie_basic.show(n=3) # 627833"
   ]
  },
  {
   "cell_type": "code",
   "execution_count": 7,
   "id": "a90c0f64-619f-4c94-b647-e78847bf71df",
   "metadata": {},
   "outputs": [
    {
     "name": "stdout",
     "output_type": "stream",
     "text": [
      "root\n",
      " |-- tconst: string (nullable = true)\n",
      " |-- primaryTitle: string (nullable = true)\n",
      " |-- startYear: integer (nullable = true)\n",
      " |-- runtimeMinutes: integer (nullable = true)\n",
      " |-- genres: array (nullable = true)\n",
      " |    |-- element: string (containsNull = true)\n",
      " |-- averageRating: float (nullable = true)\n",
      " |-- numVotes: integer (nullable = true)\n",
      "\n"
     ]
    }
   ],
   "source": [
    "# change string to int\n",
    "movie_basic.printSchema()"
   ]
  },
  {
   "cell_type": "code",
   "execution_count": 8,
   "id": "cd1da84b-6a88-4747-b172-80d48acace53",
   "metadata": {},
   "outputs": [
    {
     "name": "stderr",
     "output_type": "stream",
     "text": [
      "[Stage 28:>                                                         (0 + 1) / 1]\r"
     ]
    },
    {
     "name": "stdout",
     "output_type": "stream",
     "text": [
      "+---------+---------+--------+\n",
      "|   tconst|   nconst|category|\n",
      "+---------+---------+--------+\n",
      "|tt0000862|nm5289318|   actor|\n",
      "|tt0000862|nm5289829|   actor|\n",
      "|tt0000862|nm0386036|   actor|\n",
      "+---------+---------+--------+\n",
      "only showing top 3 rows\n",
      "\n"
     ]
    },
    {
     "name": "stderr",
     "output_type": "stream",
     "text": [
      "                                                                                \r"
     ]
    }
   ],
   "source": [
    "from pyspark.sql.functions import col\n",
    "\n",
    "movie_actor_basic = spark.read.csv(\"./title.principals.tsv\", sep='\\t', header=True)\\\n",
    "                         .filter(col(\"category\") == \"actor\")\n",
    "\n",
    "movie_actor_basic = movie_actor_basic.join(movie_basic, movie_basic.tconst == movie_actor_basic.tconst, 'inner')\\\n",
    "                                     .select(movie_basic.tconst, 'nconst', 'category')\n",
    "movie_actor_basic.show(n=3) # 1213746"
   ]
  },
  {
   "cell_type": "markdown",
   "id": "4e122132-bcdb-4cec-9a4e-54e81a7d4bb0",
   "metadata": {},
   "source": [
    "name basic 里列出的名字没有覆盖全到，movie actor pairs里的所有actor."
   ]
  },
  {
   "cell_type": "code",
   "execution_count": 9,
   "id": "21535ae2-0f38-4aa4-b20b-89581691dc2b",
   "metadata": {},
   "outputs": [
    {
     "name": "stderr",
     "output_type": "stream",
     "text": [
      "[Stage 41:>                                                         (0 + 1) / 1]\r"
     ]
    },
    {
     "name": "stdout",
     "output_type": "stream",
     "text": [
      "+----------+-----------+---------+---------+\n",
      "|    nconst|primaryName|birthYear|deathYear|\n",
      "+----------+-----------+---------+---------+\n",
      "|nm13859265|       null|     null|     null|\n",
      "|nm12467886|       null|     null|     null|\n",
      "| nm1845157|       null|     null|     null|\n",
      "+----------+-----------+---------+---------+\n",
      "only showing top 3 rows\n",
      "\n"
     ]
    },
    {
     "name": "stderr",
     "output_type": "stream",
     "text": [
      "                                                                                \r"
     ]
    }
   ],
   "source": [
    "name_basic = spark.read.csv(\"./name.basics.tsv\", sep='\\t', header=True)\n",
    "cond = (movie_actor_basic.nconst == name_basic.nconst)\n",
    "actor_basic = movie_actor_basic.select(\"nconst\")\\\n",
    "                               .distinct()\\\n",
    "                               .join(name_basic,  cond, 'left')\\\n",
    "                               .select(movie_actor_basic.nconst, \"primaryName\", \"birthYear\", \"deathYear\")\\\n",
    "                               .orderBy(\"birthYear\")\\\n",
    "                               .withColumn(\"birthYear\", name_basic.birthYear.cast(IntegerType()))\\\n",
    "                               .withColumn(\"deathYear\", name_basic.deathYear.cast(IntegerType()))\n",
    "actor_basic.cache()\n",
    "actor_basic.show(n=3) # 425944 for inner, 426018 for left."
   ]
  },
  {
   "cell_type": "code",
   "execution_count": 10,
   "id": "125040d6-1cf1-4f2c-aeba-86a3400fd88d",
   "metadata": {},
   "outputs": [
    {
     "name": "stderr",
     "output_type": "stream",
     "text": [
      "22/12/03 04:28:25 WARN MemoryManager: Total allocation exceeds 95.00% (1,020,054,720 bytes) of heap memory\n",
      "Scaling row group sizes to 95.00% for 8 writers\n",
      "22/12/03 04:28:32 WARN MemoryManager: Total allocation exceeds 95.00% (1,020,054,720 bytes) of heap memory\n",
      "Scaling row group sizes to 95.00% for 8 writers\n",
      "22/12/03 04:28:34 WARN MemoryManager: Total allocation exceeds 95.00% (1,020,054,720 bytes) of heap memory\n",
      "Scaling row group sizes to 95.00% for 8 writers\n",
      "22/12/03 04:28:34 WARN MemoryManager: Total allocation exceeds 95.00% (1,020,054,720 bytes) of heap memory\n",
      "Scaling row group sizes to 95.00% for 8 writers\n",
      "22/12/03 04:29:20 WARN MemoryManager: Total allocation exceeds 95.00% (1,020,054,720 bytes) of heap memory\n",
      "Scaling row group sizes to 95.00% for 8 writers\n",
      "                                                                                \r"
     ]
    }
   ],
   "source": [
    "movie_basic.write.parquet(\"./imdb/movie_basic.parquet\") \n",
    "actor_basic.write.parquet(\"./imdb/actor_basic.parquet\") \n",
    "movie_actor_basic.write.parquet(\"./imdb/movie_actor_basic.parquet\") "
   ]
  },
  {
   "cell_type": "markdown",
   "id": "0cb4099d-b801-4c0c-a458-180156b2d177",
   "metadata": {
    "tags": []
   },
   "source": [
    "## ~*Build IMDB Network using Graphframes~\n",
    "**Only support basic graph function**\n",
    "![img](https://spark.apache.org/docs/latest/img/graphx_logo.png)"
   ]
  },
  {
   "cell_type": "markdown",
   "id": "89955ee9-336f-424a-b069-d72c5d4b0d2e",
   "metadata": {},
   "source": [
    "There are some naming conventions that one needs to follow:\n",
    "\n",
    "1. A dataframe that represents vertices should contain a column named id.\n",
    "2. A dataframe that represents edges should contain columns named src and dst."
   ]
  },
  {
   "cell_type": "code",
   "execution_count": 11,
   "id": "e1eeb083-f712-4f19-8766-959c12a784ce",
   "metadata": {},
   "outputs": [],
   "source": [
    "from pyspark.sql.functions import coalesce\n",
    "\n",
    "# source from https://stackoverflow.com/questions/36601769/does-graphframes-api-support-creation-of-bipartite-graphs\n",
    "# By now, Graphframes dose not support a bipartite graph directly, but we can build a sup dataframe by using join and full_outer to solve it.\n",
    "node_basic = movie_basic.join(actor_basic, actor_basic.nconst == movie_basic.tconst, 'full_outer')\\\n",
    "                        .withColumn('tconst', coalesce(\"tconst\", \"nconst\"))\\\n",
    "                        .drop('nconst')\\\n",
    "                        .withColumnRenamed('tconst', 'id')"
   ]
  },
  {
   "cell_type": "code",
   "execution_count": 12,
   "id": "8580abd9-681a-4b04-bb0d-bc3306642fc5",
   "metadata": {},
   "outputs": [],
   "source": [
    "# By now, Graphframes only support directed graph, so we revert the links and join with the oringal links\n",
    "movie_actor_basic_in = movie_actor_basic.withColumnRenamed('tconst', 'src')\\\n",
    "                                        .withColumnRenamed('nconst', 'dst')\\\n",
    "                                        .select('src', 'dst') # 1213746\n",
    "\n",
    "movie_actor_basic_out = movie_actor_basic.withColumnRenamed('nconst', 'src')\\\n",
    "                                         .withColumnRenamed('tconst', 'dst')\\\n",
    "                                         .select('src', 'dst') # 1213746\n",
    "# join\n",
    "link_basic = movie_actor_basic_in.union(movie_actor_basic_out)\n",
    "# link_basic.count() # 1213746 * 2 = 2427492"
   ]
  },
  {
   "cell_type": "code",
   "execution_count": 13,
   "id": "2b0188c8-1787-4176-ac6a-34fe83ac3a91",
   "metadata": {},
   "outputs": [
    {
     "name": "stderr",
     "output_type": "stream",
     "text": [
      "22/12/03 04:29:39 WARN MemoryManager: Total allocation exceeds 95.00% (1,020,054,720 bytes) of heap memory\n",
      "Scaling row group sizes to 95.00% for 8 writers\n",
      "22/12/03 04:30:24 WARN MemoryManager: Total allocation exceeds 95.00% (1,020,054,720 bytes) of heap memory\n",
      "Scaling row group sizes to 95.00% for 8 writers\n",
      "22/12/03 04:30:32 WARN MemoryManager: Total allocation exceeds 95.00% (1,020,054,720 bytes) of heap memory\n",
      "Scaling row group sizes to 95.00% for 8 writers\n",
      "                                                                                \r"
     ]
    }
   ],
   "source": [
    "node_basic.write.parquet(\"./imdb/node_basic.parquet\") \n",
    "link_basic.write.parquet(\"./imdb/link_basic.parquet\") "
   ]
  },
  {
   "cell_type": "code",
   "execution_count": 14,
   "id": "fd711bbc-4a78-48b5-9c94-e77e9d93f1f8",
   "metadata": {},
   "outputs": [],
   "source": [
    "from graphframes import *\n",
    "\n",
    "node = spark.read.parquet(\"./imdb/node_basic.parquet\")\n",
    "link = spark.read.parquet(\"./imdb/link_basic.parquet\")\n",
    "\n",
    "g = GraphFrame(node, link)"
   ]
  },
  {
   "cell_type": "code",
   "execution_count": 15,
   "id": "607f9b4a-0bc8-4639-b937-0d7a05b03048",
   "metadata": {},
   "outputs": [
    {
     "name": "stdout",
     "output_type": "stream",
     "text": [
      "+---------+------------+---------+--------------+------+-------------+--------+----------------+---------+---------+\n",
      "|       id|primaryTitle|startYear|runtimeMinutes|genres|averageRating|numVotes|     primaryName|birthYear|deathYear|\n",
      "+---------+------------+---------+--------------+------+-------------+--------+----------------+---------+---------+\n",
      "|nm0000009|        null|     null|          null|  null|         null|    null|  Richard Burton|     1925|     1984|\n",
      "|nm0000019|        null|     null|          null|  null|         null|    null|Federico Fellini|     1920|     1993|\n",
      "|nm0000024|        null|     null|          null|  null|         null|    null|    John Gielgud|     1904|     2000|\n",
      "|nm0000032|        null|     null|          null|  null|         null|    null| Charlton Heston|     1923|     2008|\n",
      "|nm0000036|        null|     null|          null|  null|         null|    null|   Buster Keaton|     1895|     1966|\n",
      "+---------+------------+---------+--------------+------+-------------+--------+----------------+---------+---------+\n",
      "only showing top 5 rows\n",
      "\n"
     ]
    },
    {
     "data": {
      "text/plain": [
       "1053851"
      ]
     },
     "execution_count": 15,
     "metadata": {},
     "output_type": "execute_result"
    }
   ],
   "source": [
    "g.vertices.show(n=5)\n",
    "N = g.vertices.count()\n",
    "N"
   ]
  },
  {
   "cell_type": "code",
   "execution_count": 16,
   "id": "072157d6-00aa-4b4d-a752-67c593432427",
   "metadata": {},
   "outputs": [
    {
     "name": "stdout",
     "output_type": "stream",
     "text": [
      "+---------+---------+\n",
      "|      src|      dst|\n",
      "+---------+---------+\n",
      "|nm0609814|tt0000886|\n",
      "|nm0064953|tt0001116|\n",
      "|nm0085066|tt0001116|\n",
      "|nm0169878|tt0001116|\n",
      "|nm0299757|tt0001116|\n",
      "+---------+---------+\n",
      "only showing top 5 rows\n",
      "\n"
     ]
    },
    {
     "data": {
      "text/plain": [
       "2427492"
      ]
     },
     "execution_count": 16,
     "metadata": {},
     "output_type": "execute_result"
    }
   ],
   "source": [
    "g.edges.show(n=5)\n",
    "g.edges.count()"
   ]
  },
  {
   "cell_type": "code",
   "execution_count": 17,
   "id": "01619b91-b1fa-4520-b91f-0df2f735f944",
   "metadata": {},
   "outputs": [
    {
     "name": "stderr",
     "output_type": "stream",
     "text": [
      "[Stage 92:===================================================>      (8 + 1) / 9]\r"
     ]
    },
    {
     "name": "stdout",
     "output_type": "stream",
     "text": [
      "+---------+--------+\n",
      "|       id|inDegree|\n",
      "+---------+--------+\n",
      "|nm0733443|      26|\n",
      "|nm0709856|      63|\n",
      "|nm0436013|       4|\n",
      "|nm0005706|       1|\n",
      "|nm0582544|      13|\n",
      "+---------+--------+\n",
      "only showing top 5 rows\n",
      "\n"
     ]
    },
    {
     "name": "stderr",
     "output_type": "stream",
     "text": [
      "                                                                                \r"
     ]
    }
   ],
   "source": [
    "vertexInDegrees = g.inDegrees\n",
    "vertexInDegrees.show(n=5)"
   ]
  },
  {
   "cell_type": "code",
   "execution_count": 18,
   "id": "b580eb18-690d-40dc-9949-f89916c801fa",
   "metadata": {},
   "outputs": [
    {
     "name": "stderr",
     "output_type": "stream",
     "text": [
      "[Stage 97:>                                                         (0 + 8) / 8]\r"
     ]
    },
    {
     "name": "stdout",
     "output_type": "stream",
     "text": [
      "+--------+-----+\n",
      "|inDegree|count|\n",
      "+--------+-----+\n",
      "|     148|    4|\n",
      "|      31|  232|\n",
      "|     137|    5|\n",
      "|      85|   23|\n",
      "|      65|   32|\n",
      "+--------+-----+\n",
      "only showing top 5 rows\n",
      "\n"
     ]
    },
    {
     "name": "stderr",
     "output_type": "stream",
     "text": [
      "                                                                                \r"
     ]
    }
   ],
   "source": [
    "degree_dist = vertexInDegrees.groupBy('inDegree').count()\n",
    "degree_dist.show(n=5)"
   ]
  },
  {
   "cell_type": "code",
   "execution_count": 19,
   "id": "711bf4c0-f90e-4d2c-8e59-8a2e977aeee2",
   "metadata": {},
   "outputs": [
    {
     "name": "stderr",
     "output_type": "stream",
     "text": [
      "                                                                                \r"
     ]
    }
   ],
   "source": [
    "# Convert PySpark Dataframe to Pandas DataFrame\n",
    "import numpy as np\n",
    "import pandas as pd\n",
    "import powerlaw\n",
    "import matplotlib.pyplot as plt\n",
    "degree_list = vertexInDegrees.select('inDegree').toPandas().astype('int').values[:, 0]\n",
    "degree_dist_pandas = degree_dist.toPandas().astype('int').values"
   ]
  },
  {
   "cell_type": "code",
   "execution_count": 20,
   "id": "62827055-f350-4d8a-b589-b1dc40895d0d",
   "metadata": {},
   "outputs": [],
   "source": [
    "from pyspark.sql.functions import col\n",
    "mg = g.filterVertices(col('primaryName').isNull())"
   ]
  },
  {
   "cell_type": "code",
   "execution_count": 21,
   "id": "07457af8-80e1-4acd-b72e-df10e2a30909",
   "metadata": {},
   "outputs": [
    {
     "name": "stderr",
     "output_type": "stream",
     "text": [
      "[Stage 111:>                                                        (0 + 9) / 9]\r"
     ]
    },
    {
     "name": "stdout",
     "output_type": "stream",
     "text": [
      "+----------+--------+\n",
      "|        id|inDegree|\n",
      "+----------+--------+\n",
      "| nm4804573|       1|\n",
      "|nm11406401|       1|\n",
      "|nm13833007|       1|\n",
      "|nm12458265|       2|\n",
      "|nm13859428|       5|\n",
      "+----------+--------+\n",
      "only showing top 5 rows\n",
      "\n"
     ]
    },
    {
     "name": "stderr",
     "output_type": "stream",
     "text": [
      "                                                                                \r"
     ]
    }
   ],
   "source": [
    "mgDegrees = mg.inDegrees\n",
    "mgDegrees.show(n=5)"
   ]
  },
  {
   "cell_type": "code",
   "execution_count": 22,
   "id": "ad3d4bd7-dcc6-407d-9912-85849aa9e4f3",
   "metadata": {},
   "outputs": [
    {
     "name": "stdout",
     "output_type": "stream",
     "text": [
      "Calculating best minimal value for power law fit\n",
      "xmin progress: 99%\r"
     ]
    },
    {
     "data": {
      "image/png": "[encoded data removed]",
      "text/plain": [
       "<Figure size 864x576 with 2 Axes>"
      ]
     },
     "metadata": {
      "needs_background": "light"
     },
     "output_type": "display_data"
    }
   ],
   "source": [
    "pl = powerlaw.Fit(degree_list, discrete=True)\n",
    "gamma = pl.alpha\n",
    "kmin = pl.xmin\n",
    "xs = np.linspace(10, 100, 100)\n",
    "ys = (gamma - 1) * 5 ** (gamma -1) * xs ** (-gamma)\n",
    "gamma, kmin # (4.270224347693521, 135.0)\n",
    "\n",
    "c = ['#7b549b', '#75fb52', '#e8964a', '#ae8fbd']\n",
    "tags = ['IMDB']\n",
    "def draw_degree_distribution(dist, N, title, tag, color='#7b549b', xs=xs, ys=ys, c1='#75fb52'):\n",
    "    fig, (ax1, ax2) = plt.subplots(1,2, figsize=(12,8))\n",
    "    ax1.scatter(dist[:, 0], dist[:, 1] / N, s=20, c=color, label=tag)\n",
    "    ax1.plot(xs, ys, '-', c=c1, label='Fit $\\gamma$')\n",
    "    ax2.scatter(dist[:, 0], dist[:, 1] / N, s=20, c=color, label=tag)\n",
    "    ax1.set_xlabel('$k_{in}$')\n",
    "    ax1.set_ylabel('$p_k$')\n",
    "    ax1.set_xscale('log')\n",
    "    ax1.set_yscale('log')\n",
    "    ax1.grid(alpha=0.6)\n",
    "    ax1.legend()\n",
    "    ax2.set_xlabel('$k_{in}$')\n",
    "    ax2.set_ylabel('$p_k$')\n",
    "    ax2.grid(alpha=0.6)\n",
    "    ax2.legend()\n",
    "    plt.suptitle(f'{title} Degree Distribution\\n(N={N})')\n",
    "    plt.tight_layout()\n",
    "    plt.show()\n",
    "    \n",
    "draw_degree_distribution(degree_dist_pandas, N, 'Movie-Actor Network', 'IMDB')"
   ]
  },
  {
   "cell_type": "code",
   "execution_count": 23,
   "id": "4f2cd72c-28c4-4403-8074-fc099c9f39eb",
   "metadata": {},
   "outputs": [
    {
     "name": "stdout",
     "output_type": "stream",
     "text": [
      "+---------+--------------------+---------+--------------+--------------------+-------------+--------+-----------+---------+---------+\n",
      "|       id|        primaryTitle|startYear|runtimeMinutes|              genres|averageRating|numVotes|primaryName|birthYear|deathYear|\n",
      "+---------+--------------------+---------+--------------+--------------------+-------------+--------+-----------+---------+---------+\n",
      "|tt1375666|           Inception|     2010|           148|[Action, Adventur...|          8.8| 2336620|       null|     null|     null|\n",
      "|tt0109830|        Forrest Gump|     1994|           142|    [Drama, Romance]|          8.8| 2064666|       null|     null|     null|\n",
      "|tt0110912|        Pulp Fiction|     1994|           154|      [Crime, Drama]|          8.9| 2038992|       null|     null|     null|\n",
      "|tt0137523|          Fight Club|     1999|           139|             [Drama]|          8.8| 2109298|       null|     null|     null|\n",
      "|tt0468569|     The Dark Knight|     2008|           152|[Action, Crime, D...|          9.0| 2636861|       null|     null|     null|\n",
      "|tt0111161|The Shawshank Red...|     1994|           142|             [Drama]|          9.3| 2663893|       null|     null|     null|\n",
      "+---------+--------------------+---------+--------------+--------------------+-------------+--------+-----------+---------+---------+\n",
      "\n"
     ]
    },
    {
     "name": "stderr",
     "output_type": "stream",
     "text": [
      "                                                                                \r"
     ]
    }
   ],
   "source": [
    "g.vertices.filter(\"numVotes > 2000000\").show()"
   ]
  },
  {
   "cell_type": "markdown",
   "id": "a9f4e0f0-8ac2-4fad-aafe-4f1c15fa9178",
   "metadata": {
    "tags": []
   },
   "source": [
    "# Netflix Network"
   ]
  },
  {
   "cell_type": "markdown",
   "id": "0a319c14-9ea6-45d0-bef6-809e97478c9c",
   "metadata": {
    "tags": []
   },
   "source": [
    "## Get Nodes and Links"
   ]
  },
  {
   "cell_type": "code",
   "execution_count": 24,
   "id": "fc3cd8ef-2e75-417a-a7c7-3a2349de6cdc",
   "metadata": {},
   "outputs": [],
   "source": [
    "# load checkpoints\n",
    "movie_basic = spark.read.parquet(\"./imdb/movie_basic.parquet\") \n",
    "actor_basic = spark.read.parquet(\"./imdb/actor_basic.parquet\")  \n",
    "movie_actor_basic = spark.read.parquet(\"./imdb/movie_actor_basic.parquet\") "
   ]
  },
  {
   "cell_type": "markdown",
   "id": "b0ea2f79-d56c-46f8-86b7-d6d1290c3fb0",
   "metadata": {
    "tags": []
   },
   "source": [
    "### Movie List in Netflix"
   ]
  },
  {
   "cell_type": "code",
   "execution_count": 25,
   "id": "c1a224c8-4d25-431d-9c5b-844f045441c8",
   "metadata": {},
   "outputs": [
    {
     "name": "stderr",
     "output_type": "stream",
     "text": [
      "                                                                                \r"
     ]
    },
    {
     "name": "stdout",
     "output_type": "stream",
     "text": [
      "+---------+--------------------+---------+--------------+--------------------+--------------------+--------------------+-------------+--------+\n",
      "|   tconst|        primaryTitle|startYear|runtimeMinutes|              genres|             country|         description|averageRating|numVotes|\n",
      "+---------+--------------------+---------+--------------+--------------------+--------------------+--------------------+-------------+--------+\n",
      "|tt0037404|    Tunisian Victory|     1944|            75|  [Documentary, War]|[United States, U...|British and Ameri...|          6.6|     624|\n",
      "|tt0185405|Know Your Enemy -...|     1945|            63|[Documentary, His...|     [United States]|Though culturally...|          6.0|     806|\n",
      "|tt0044429|     The Blazing Sun|     1954|           105|[Crime, Drama, Ro...|             [Egypt]|Competition betwe...|          7.2|    1343|\n",
      "|tt0047673|     White Christmas|     1954|           120|[Comedy, Musical,...|     [United States]|Two war buddies f...|          7.5|   42874|\n",
      "|tt0050817| Scandal in Sorrento|     1955|           110|   [Comedy, Romance]|     [Italy, France]|When a marshal mo...|          6.5|    2348|\n",
      "+---------+--------------------+---------+--------------+--------------------+--------------------+--------------------+-------------+--------+\n",
      "only showing top 5 rows\n",
      "\n"
     ]
    },
    {
     "data": {
      "text/plain": [
       "4129"
      ]
     },
     "execution_count": 25,
     "metadata": {},
     "output_type": "execute_result"
    }
   ],
   "source": [
    "from pyspark.sql.functions import split, col, regexp_extract\n",
    "from pyspark.sql.types import StructType, IntegerType, StringType\n",
    "\n",
    "# Read netflix titles, which have 6,131 movie titles\n",
    "netflix_basic = spark.read.csv(r\"./netflix.titles.csv\", header=True).filter(col(\"type\") == \"Movie\")\\\n",
    "                     .withColumn(\"duration\", regexp_extract(col(\"duration\"), \"(\\d+)\", 1))\n",
    "\n",
    "# Join condition for two dataframe\n",
    "cond = (netflix_basic.title == movie_basic.primaryTitle)\\\n",
    "       & (netflix_basic.release_year == movie_basic.startYear)\n",
    "\n",
    "# Join\n",
    "movie = netflix_basic.join(movie_basic, cond, 'inner')\\\n",
    "                     .select('tconst', 'primaryTitle', 'startYear', 'runtimeMinutes', \n",
    "                             'genres', 'country', 'description', 'averageRating', 'numVotes')\\\n",
    "                     .orderBy('startYear')\\\n",
    "                     .withColumn(\"country\", split(col(\"country\"),\", \"))\n",
    "movie.cache()\n",
    "movie.show(n=5)\n",
    "movie.count() # 4129"
   ]
  },
  {
   "cell_type": "code",
   "execution_count": 26,
   "id": "d7a2cc9f-0689-44d9-a652-e0fed77710ee",
   "metadata": {},
   "outputs": [
    {
     "name": "stdout",
     "output_type": "stream",
     "text": [
      "root\n",
      " |-- tconst: string (nullable = true)\n",
      " |-- primaryTitle: string (nullable = true)\n",
      " |-- startYear: integer (nullable = true)\n",
      " |-- runtimeMinutes: integer (nullable = true)\n",
      " |-- genres: array (nullable = true)\n",
      " |    |-- element: string (containsNull = true)\n",
      " |-- country: array (nullable = true)\n",
      " |    |-- element: string (containsNull = true)\n",
      " |-- description: string (nullable = true)\n",
      " |-- averageRating: float (nullable = true)\n",
      " |-- numVotes: integer (nullable = true)\n",
      "\n"
     ]
    }
   ],
   "source": [
    "movie.printSchema()"
   ]
  },
  {
   "cell_type": "markdown",
   "id": "632c03a1-43fc-4006-b4c7-5de95415693c",
   "metadata": {},
   "source": [
    "### Movie-Actor Links"
   ]
  },
  {
   "cell_type": "code",
   "execution_count": 27,
   "id": "2eab6882-2bd6-4258-8de4-eae5d4cb4a05",
   "metadata": {},
   "outputs": [
    {
     "name": "stdout",
     "output_type": "stream",
     "text": [
      "+---------+---------+\n",
      "|   tconst|   nconst|\n",
      "+---------+---------+\n",
      "|tt0046292|nm0001120|\n",
      "|tt0046292|nm0885203|\n",
      "|tt0056193|nm0000051|\n",
      "+---------+---------+\n",
      "only showing top 3 rows\n",
      "\n"
     ]
    },
    {
     "data": {
      "text/plain": [
       "9239"
      ]
     },
     "execution_count": 27,
     "metadata": {},
     "output_type": "execute_result"
    }
   ],
   "source": [
    "cond = (movie.tconst == movie_actor_basic.tconst)\n",
    "movie_actor = movie_actor_basic.join(movie, cond, 'inner')\\\n",
    "                               .select(movie.tconst, 'nconst')\n",
    "movie_actor.show(n=3)\n",
    "movie_actor.count()"
   ]
  },
  {
   "cell_type": "markdown",
   "id": "7213c6e5-b78f-4db5-8653-e5e96a02d4c5",
   "metadata": {
    "tags": []
   },
   "source": [
    "### Actor List in Netflix"
   ]
  },
  {
   "cell_type": "code",
   "execution_count": 28,
   "id": "c4667c78-d87f-4e84-a529-49743cd4e008",
   "metadata": {},
   "outputs": [
    {
     "name": "stderr",
     "output_type": "stream",
     "text": [
      "                                                                                \r"
     ]
    },
    {
     "name": "stdout",
     "output_type": "stream",
     "text": [
      "+----------+-------------+---------+---------+\n",
      "|    nconst|  primaryName|birthYear|deathYear|\n",
      "+----------+-------------+---------+---------+\n",
      "| nm0653658| Jen Kuo Sung|     null|     null|\n",
      "| nm4729449|   Rajat Kaul|     null|     null|\n",
      "|nm13250516|Yazeed Faruja|     null|     null|\n",
      "+----------+-------------+---------+---------+\n",
      "only showing top 3 rows\n",
      "\n"
     ]
    },
    {
     "data": {
      "text/plain": [
       "6021"
      ]
     },
     "execution_count": 28,
     "metadata": {},
     "output_type": "execute_result"
    }
   ],
   "source": [
    "cond = (movie_actor.nconst == actor_basic.nconst)\n",
    "actor = movie_actor.select(\"nconst\")\\\n",
    "                   .distinct()\\\n",
    "                   .join(actor_basic, cond, 'left')\\\n",
    "                   .select(movie_actor.nconst, actor_basic.primaryName, actor_basic.birthYear, actor_basic.deathYear)\\\n",
    "                   .orderBy(\"birthYear\")\n",
    "actor.cache()\n",
    "actor.show(n=3)\n",
    "actor.count() # 6021"
   ]
  },
  {
   "cell_type": "code",
   "execution_count": 29,
   "id": "c136062e-9de0-424c-a6bc-ca37d0df18ee",
   "metadata": {},
   "outputs": [],
   "source": [
    "from pyspark.sql.functions import udf\n",
    "from pyspark.sql.types import StructType, IntegerType, StringType\n",
    "\n",
    "def movieCount(x):\n",
    "    # count the movies a given actor played\n",
    "    if x == None: \n",
    "        return '0'\n",
    "    else:\n",
    "        split = x.split(',')\n",
    "        return str(len(split))\n",
    "    \n",
    "udf_movieCount = udf(movieCount, StringType())\n",
    "\n",
    "# # It turn out that IMDB.com only lists four movies an actor played, so we do not need do this step.\n",
    "# actor = actor.withColumn(\"movieCount\", udf_movieCount(\"knownForTitles\"))\n",
    "# actor.withColumn(\"movieCount\",actor.movieCount.cast(IntegerType()))\\\n",
    "#      .groupby().max('movieCount').first().asDict()['max(movieCount)']  # 4"
   ]
  },
  {
   "cell_type": "markdown",
   "id": "01970c9e-c8a4-402f-a489-8deccb5b66e5",
   "metadata": {
    "tags": []
   },
   "source": [
    "## Save As Parquet"
   ]
  },
  {
   "cell_type": "code",
   "execution_count": 30,
   "id": "ba9983e3-2b23-4412-89be-480bf558b6d0",
   "metadata": {},
   "outputs": [
    {
     "name": "stderr",
     "output_type": "stream",
     "text": [
      "22/12/03 04:31:13 WARN MemoryManager: Total allocation exceeds 95.00% (1,020,054,720 bytes) of heap memory\n",
      "Scaling row group sizes to 95.00% for 8 writers\n",
      "22/12/03 04:31:13 WARN MemoryManager: Total allocation exceeds 95.00% (1,020,054,720 bytes) of heap memory\n",
      "Scaling row group sizes to 95.00% for 8 writers\n",
      "22/12/03 04:31:13 WARN MemoryManager: Total allocation exceeds 95.00% (1,020,054,720 bytes) of heap memory\n",
      "Scaling row group sizes to 95.00% for 8 writers\n",
      "22/12/03 04:31:13 WARN MemoryManager: Total allocation exceeds 95.00% (1,020,054,720 bytes) of heap memory\n",
      "Scaling row group sizes to 95.00% for 8 writers\n",
      "22/12/03 04:31:14 WARN MemoryManager: Total allocation exceeds 95.00% (1,020,054,720 bytes) of heap memory\n",
      "Scaling row group sizes to 95.00% for 8 writers\n",
      "22/12/03 04:31:14 WARN MemoryManager: Total allocation exceeds 95.00% (1,020,054,720 bytes) of heap memory\n",
      "Scaling row group sizes to 95.00% for 8 writers\n",
      "22/12/03 04:31:14 WARN MemoryManager: Total allocation exceeds 95.00% (1,020,054,720 bytes) of heap memory\n",
      "Scaling row group sizes to 95.00% for 8 writers\n",
      "22/12/03 04:31:14 WARN MemoryManager: Total allocation exceeds 95.00% (1,020,054,720 bytes) of heap memory\n",
      "Scaling row group sizes to 95.00% for 8 writers\n",
      "22/12/03 04:31:15 WARN MemoryManager: Total allocation exceeds 95.00% (1,020,054,720 bytes) of heap memory\n",
      "Scaling row group sizes to 95.00% for 8 writers\n",
      "22/12/03 04:31:15 WARN MemoryManager: Total allocation exceeds 95.00% (1,020,054,720 bytes) of heap memory\n",
      "Scaling row group sizes to 95.00% for 8 writers\n",
      "22/12/03 04:31:15 WARN MemoryManager: Total allocation exceeds 95.00% (1,020,054,720 bytes) of heap memory\n",
      "Scaling row group sizes to 95.00% for 8 writers\n",
      "22/12/03 04:31:16 WARN MemoryManager: Total allocation exceeds 95.00% (1,020,054,720 bytes) of heap memory\n",
      "Scaling row group sizes to 95.00% for 8 writers\n",
      "22/12/03 04:31:16 WARN MemoryManager: Total allocation exceeds 95.00% (1,020,054,720 bytes) of heap memory\n",
      "Scaling row group sizes to 95.00% for 8 writers\n",
      "22/12/03 04:31:16 WARN MemoryManager: Total allocation exceeds 95.00% (1,020,054,720 bytes) of heap memory\n",
      "Scaling row group sizes to 95.00% for 8 writers\n",
      "22/12/03 04:31:18 WARN MemoryManager: Total allocation exceeds 95.00% (1,020,054,720 bytes) of heap memory\n",
      "Scaling row group sizes to 95.00% for 8 writers\n"
     ]
    }
   ],
   "source": [
    "# Examples\n",
    "# df.write.parquet(\"/tmp/out/people.parquet\") \n",
    "# parDF1=spark.read.parquet(\"/temp/out/people.parquet\")\n",
    "\n",
    "movie.write.parquet(\"./netflix/movie.parquet\") \n",
    "actor.write.parquet(\"./netflix/actor.parquet\") \n",
    "movie_actor.write.parquet(\"./netflix/movie_actor.parquet\") "
   ]
  },
  {
   "cell_type": "code",
   "execution_count": null,
   "id": "132a2b69-0e95-4c5e-8cd0-6eb53af1b568",
   "metadata": {},
   "outputs": [],
   "source": []
  }
 ],
 "metadata": {
  "kernelspec": {
   "display_name": "Python 3 (ipykernel)",
   "language": "python",
   "name": "python3"
  },
  "language_info": {
   "codemirror_mode": {
    "name": "ipython",
    "version": 3
   },
   "file_extension": ".py",
   "mimetype": "text/x-python",
   "name": "python",
   "nbconvert_exporter": "python",
   "pygments_lexer": "ipython3",
   "version": "3.8.15"
  },
  "toc-autonumbering": true
 },
 "nbformat": 4,
 "nbformat_minor": 5
}
